{
 "cells": [
  {
   "cell_type": "code",
   "execution_count": null,
   "id": "15ab6be2-7e1b-4e5f-bd6b-3395d89a1a93",
   "metadata": {},
   "outputs": [],
   "source": [
    "# Download data from summary.tsv into newly created folder sabdab_dataset\n",
    "\n",
    "# !rm -r sabdab_dataset  # uncomment this line if you already have a sabdab_dataset folder\n",
    "!python sabdab_downloader.py -s \"datasets/summary.tsv\" -o \"../mlcb/\" --original_pdb"
   ]
  },
  {
   "cell_type": "code",
   "execution_count": null,
   "id": "576ddf7c-4e67-41d3-a9a3-49feba9a4d6b",
   "metadata": {},
   "outputs": [],
   "source": [
    "# Run prediction \n",
    "# This code will generate two csv files: rmsd_results.csv and plddt_results.csv\n",
    "# and one txt file: proteins.txt\n",
    "# Should have a folder named 'result' in the directory of this notebook\n",
    "\n",
    "!python run.py"
   ]
  },
  {
   "cell_type": "code",
   "execution_count": null,
   "id": "d8f284df-3a88-4e88-a907-9cf0d9ef597e",
   "metadata": {},
   "outputs": [],
   "source": [
    "# Plot results\n",
    "\n",
    "import pandas as pd\n",
    "import seaborn as sns\n",
    "import matplotlib.pyplot as plt\n",
    "\n",
    "rmsd_df = pd.read_csv(\"rmsd_results.csv\")\n",
    "rmsd_df = rmsd_df.drop(columns=['ID'])\n",
    "\n",
    "# new_column_names = {\n",
    "#     'Separate':'Separate'\n",
    "#     'hl_linker1': 'hl_G15',\n",
    "#     'hl_linker2': 'hl_G30',\n",
    "#     'hl_linker3': 'hl_GS15',\n",
    "#     'hl_linker4': 'hl_P15',\n",
    "#     'lh_linker1': 'lh_G15',\n",
    "#     'lh_linker2': 'lh_G30',\n",
    "#     'lh_linker3': 'lh_GS15',\n",
    "#     'lh_linker4': 'lh_P15',\n",
    "# }\n",
    "# rmsd_df.rename(columns=new_column_names, inplace=True)\n",
    "\n",
    "sns.set(style=\"whitegrid\")\n",
    "\n",
    "plt.figure(figsize=(12, 8))\n",
    "sns.pointplot(data=rmsd_df, ci=\"sd\", markers='o', color='red', join=False, dodge=True, scale=1.5)\n",
    "sns.stripplot(data=rmsd_df, palette=\"Set2\", size=2, jitter=True)\n",
    "\n",
    "\n",
    "plt.xlabel('Methods')\n",
    "plt.ylabel('RMSD Values')\n",
    "plt.title('RMSD Values of Each Method')\n",
    "plt.savefig('rmsd_results.png')\n",
    "plt.show()\n",
    "\n",
    "average_values = rmsd_df.mean()\n",
    "print(\"Average Values for Each Method:\")\n",
    "print(average_values)"
   ]
  },
  {
   "cell_type": "code",
   "execution_count": null,
   "id": "c40a426c-846a-4b4d-a1a4-2e109f30e355",
   "metadata": {},
   "outputs": [],
   "source": [
    "# Run prediction for antigen bounded sequences\n",
    "!python sabdab_downloader.py -s \"datasets/antigen_summary.tsv\" -o \"../mlcb/sabdab_antigen\" --original_pdb\n",
    "!python run_antigen.py"
   ]
  },
  {
   "cell_type": "code",
   "execution_count": null,
   "id": "b4b1df9c-8d4b-4988-aa03-a4983ef3f045",
   "metadata": {},
   "outputs": [],
   "source": [
    "# Plot results\n",
    "\n",
    "import pandas as pd\n",
    "import seaborn as sns\n",
    "import matplotlib.pyplot as plt\n",
    "\n",
    "rmsd_df = pd.read_csv(\"rmsd_antigen_results.csv\")\n",
    "rmsd_df = rmsd_df.drop(columns=['ID'])\n",
    "\n",
    "sns.set(style=\"whitegrid\")\n",
    "\n",
    "plt.figure(figsize=(12, 8))\n",
    "sns.pointplot(data=rmsd_df, ci=\"sd\", markers='o', color='red', join=False, dodge=True, scale=1.5)\n",
    "sns.stripplot(data=rmsd_df, palette=\"Set2\", size=2, jitter=True)\n",
    "\n",
    "\n",
    "plt.xlabel('Methods')\n",
    "plt.ylabel('RMSD Values')\n",
    "plt.title('RMSD Values of Each Method')\n",
    "plt.savefig('rmsd_antigen_results.png')\n",
    "plt.show()\n",
    "\n",
    "average_values = rmsd_df.mean()\n",
    "print(\"Average Values for Each Method:\")\n",
    "print(average_values)"
   ]
  }
 ],
 "metadata": {
  "kernelspec": {
   "display_name": "Python 3 (ipykernel)",
   "language": "python",
   "name": "python3"
  },
  "language_info": {
   "codemirror_mode": {
    "name": "ipython",
    "version": 3
   },
   "file_extension": ".py",
   "mimetype": "text/x-python",
   "name": "python",
   "nbconvert_exporter": "python",
   "pygments_lexer": "ipython3",
   "version": "3.9.0"
  }
 },
 "nbformat": 4,
 "nbformat_minor": 5
}
